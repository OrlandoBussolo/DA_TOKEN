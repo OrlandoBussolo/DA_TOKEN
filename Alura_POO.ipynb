{
  "nbformat": 4,
  "nbformat_minor": 0,
  "metadata": {
    "colab": {
      "provenance": [],
      "authorship_tag": "ABX9TyNHcE6FI8v8v9br2oefHYOG",
      "include_colab_link": true
    },
    "kernelspec": {
      "name": "python3",
      "display_name": "Python 3"
    },
    "language_info": {
      "name": "python"
    }
  },
  "cells": [
    {
      "cell_type": "markdown",
      "metadata": {
        "id": "view-in-github",
        "colab_type": "text"
      },
      "source": [
        "<a href=\"https://colab.research.google.com/github/OrlandoBussolo/DA_TOKEN/blob/main/Alura_POO.ipynb\" target=\"_parent\"><img src=\"https://colab.research.google.com/assets/colab-badge.svg\" alt=\"Open In Colab\"/></a>"
      ]
    },
    {
      "cell_type": "code",
      "source": [
        "class Conta:\n",
        "\n",
        "    def __init__(self, numero, titular, saldo, limite):\n",
        "        print(\"Construindo objeto ...{}\".format(self))\n",
        "        self.__numero  = numero\n",
        "        self.__titular = titular\n",
        "        self.__saldo   = int(saldo)\n",
        "        self.__limite  = int(limite)\n",
        "\n",
        "    def extrato(self):\n",
        "        print(\"Saldo {} do titular {}\".format(self.__saldo,self.__titular))\n",
        "\n",
        "    def deposita(self, valor):\n",
        "        self.__saldo += valor\n",
        "\n",
        "    @property\n",
        "    def __pode_sacar(self):\n",
        "      limite_saque = self.__saldo + self.__limite\n",
        "      return limite_saque\n",
        "\n",
        "    def saca(self, valor):\n",
        "        if( valor <= (self.__pode_sacar)):\n",
        "          self.__saldo -= int(valor)\n",
        "        else:\n",
        "          print(\"O valor {} passou do limite.\".format(valor))\n",
        "\n",
        "    def transfere(self, valor, destino):\n",
        "        self.saca(valor)\n",
        "        destino.deposita(valor)\n",
        "\n",
        "    @property\n",
        "    def limite(self):\n",
        "        return self.__limite\n",
        "\n",
        "    @limite.setter\n",
        "    def limite(self, limite):\n",
        "        self.__limite = limite\n",
        "\n",
        "    @property\n",
        "    def saldo(self):\n",
        "       return self.__saldo\n",
        "\n",
        "    @saldo.setter\n",
        "    def saldo(self, saldo):\n",
        "        self.__saldo = saldo\n",
        "\n",
        "    @staticmethod\n",
        "    def codigos_bancos():\n",
        "      return {'BB':'001', 'Caixa':'104', 'Bradesco': '237'}\n",
        "\n",
        "    @staticmethod\n",
        "    def codigo_banco():\n",
        "      return '001'\n",
        "\n",
        "\n",
        "\n"
      ],
      "metadata": {
        "id": "XpGAr52e-HK7"
      },
      "execution_count": 224,
      "outputs": []
    }
  ]
}